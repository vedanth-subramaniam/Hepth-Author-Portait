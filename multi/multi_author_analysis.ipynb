{
 "cells": [
  {
   "cell_type": "code",
   "execution_count": 1,
   "metadata": {},
   "outputs": [],
   "source": [
    "import os\n",
    "import ast\n",
    "import pandas as pd\n",
    "import numpy as np\n",
    "import copy\n",
    "from itertools import islice"
   ]
  },
  {
   "cell_type": "code",
   "execution_count": 2,
   "metadata": {},
   "outputs": [],
   "source": [
    "#Return first n items of the iterable as a list\n",
    "def take(n, iterable):\n",
    "    return list(islice(iterable, n))"
   ]
  },
  {
   "cell_type": "code",
   "execution_count": 3,
   "metadata": {},
   "outputs": [],
   "source": [
    "import logging\n",
    "\n",
    "# create logger\n",
    "logger = logging.getLogger(__name__)\n",
    "# set log level for all handlers to debug\n",
    "logger.setLevel(logging.DEBUG)\n",
    "\n",
    "# create console handler and set level to debug\n",
    "# best for development or debugging\n",
    "consoleHandler = logging.StreamHandler()\n",
    "consoleHandler.setLevel(logging.DEBUG)\n",
    "\n",
    "# create formatter\n",
    "formatter = logging.Formatter('%(asctime)s - %(name)s - %(levelname)s - %(message)s')\n",
    "\n",
    "# add formatter to ch\n",
    "consoleHandler.setFormatter(formatter)\n",
    "\n",
    "# add ch to logger\n",
    "logger.addHandler(consoleHandler)\n"
   ]
  },
  {
   "cell_type": "code",
   "execution_count": 16,
   "metadata": {},
   "outputs": [
    {
     "data": {
      "text/html": [
       "<div>\n",
       "<style scoped>\n",
       "    .dataframe tbody tr th:only-of-type {\n",
       "        vertical-align: middle;\n",
       "    }\n",
       "\n",
       "    .dataframe tbody tr th {\n",
       "        vertical-align: top;\n",
       "    }\n",
       "\n",
       "    .dataframe thead th {\n",
       "        text-align: right;\n",
       "    }\n",
       "</style>\n",
       "<table border=\"1\" class=\"dataframe\">\n",
       "  <thead>\n",
       "    <tr style=\"text-align: right;\">\n",
       "      <th></th>\n",
       "      <th>Paper Id</th>\n",
       "      <th>Author Id</th>\n",
       "    </tr>\n",
       "  </thead>\n",
       "  <tbody>\n",
       "    <tr>\n",
       "      <th>0</th>\n",
       "      <td>9112005</td>\n",
       "      <td>['1']</td>\n",
       "    </tr>\n",
       "    <tr>\n",
       "      <th>1</th>\n",
       "      <td>9112014</td>\n",
       "      <td>['2', '34', '30', '33']</td>\n",
       "    </tr>\n",
       "    <tr>\n",
       "      <th>2</th>\n",
       "      <td>9109003</td>\n",
       "      <td>['3']</td>\n",
       "    </tr>\n",
       "    <tr>\n",
       "      <th>3</th>\n",
       "      <td>9108020</td>\n",
       "      <td>['4', '5']</td>\n",
       "    </tr>\n",
       "    <tr>\n",
       "      <th>4</th>\n",
       "      <td>9112074</td>\n",
       "      <td>['6', '7', '11', '12']</td>\n",
       "    </tr>\n",
       "  </tbody>\n",
       "</table>\n",
       "</div>"
      ],
      "text/plain": [
       "  Paper Id                Author Id\n",
       "0  9112005                    ['1']\n",
       "1  9112014  ['2', '34', '30', '33']\n",
       "2  9109003                    ['3']\n",
       "3  9108020               ['4', '5']\n",
       "4  9112074   ['6', '7', '11', '12']"
      ]
     },
     "execution_count": 16,
     "metadata": {},
     "output_type": "execute_result"
    }
   ],
   "source": [
    "pap_auth_df = pd.read_csv(\"papId_authId.csv\", dtype='str')\n",
    "pap_auth_df.head()"
   ]
  },
  {
   "cell_type": "code",
   "execution_count": 18,
   "metadata": {},
   "outputs": [],
   "source": [
    "single_author_word = pd.read_csv(\"single_author_topic_words.csv\", dtype='str')\n",
    "paper_topic_word = pd.read_csv(\"multi_authored_papers_topic_model.csv\", dtype='str')"
   ]
  },
  {
   "cell_type": "code",
   "execution_count": 19,
   "metadata": {},
   "outputs": [
    {
     "data": {
      "text/html": [
       "<div>\n",
       "<style scoped>\n",
       "    .dataframe tbody tr th:only-of-type {\n",
       "        vertical-align: middle;\n",
       "    }\n",
       "\n",
       "    .dataframe tbody tr th {\n",
       "        vertical-align: top;\n",
       "    }\n",
       "\n",
       "    .dataframe thead th {\n",
       "        text-align: right;\n",
       "    }\n",
       "</style>\n",
       "<table border=\"1\" class=\"dataframe\">\n",
       "  <thead>\n",
       "    <tr style=\"text-align: right;\">\n",
       "      <th></th>\n",
       "      <th>Paper Id</th>\n",
       "      <th>Topic Words</th>\n",
       "    </tr>\n",
       "  </thead>\n",
       "  <tbody>\n",
       "    <tr>\n",
       "      <th>0</th>\n",
       "      <td>0001001</td>\n",
       "      <td>{'space': 0.06532662655638953, 'string': 0.053...</td>\n",
       "    </tr>\n",
       "    <tr>\n",
       "      <th>1</th>\n",
       "      <td>0001002</td>\n",
       "      <td>{'domain': 0.13554957637373383, 'wall': 0.1255...</td>\n",
       "    </tr>\n",
       "    <tr>\n",
       "      <th>2</th>\n",
       "      <td>0001003</td>\n",
       "      <td>{'gauge': 0.3181979025545328, 'eipx': 0.172512...</td>\n",
       "    </tr>\n",
       "    <tr>\n",
       "      <th>3</th>\n",
       "      <td>0001004</td>\n",
       "      <td>{'mirror': 0.08901499116017353, 'energy': 0.08...</td>\n",
       "    </tr>\n",
       "    <tr>\n",
       "      <th>4</th>\n",
       "      <td>0001005</td>\n",
       "      <td>{'chiral': 0.03881194003739911, 'algebra': 0.0...</td>\n",
       "    </tr>\n",
       "  </tbody>\n",
       "</table>\n",
       "</div>"
      ],
      "text/plain": [
       "  Paper Id                                        Topic Words\n",
       "0  0001001  {'space': 0.06532662655638953, 'string': 0.053...\n",
       "1  0001002  {'domain': 0.13554957637373383, 'wall': 0.1255...\n",
       "2  0001003  {'gauge': 0.3181979025545328, 'eipx': 0.172512...\n",
       "3  0001004  {'mirror': 0.08901499116017353, 'energy': 0.08...\n",
       "4  0001005  {'chiral': 0.03881194003739911, 'algebra': 0.0..."
      ]
     },
     "execution_count": 19,
     "metadata": {},
     "output_type": "execute_result"
    }
   ],
   "source": [
    "paper_topic_word.head()"
   ]
  },
  {
   "cell_type": "code",
   "execution_count": 20,
   "metadata": {},
   "outputs": [
    {
     "data": {
      "text/html": [
       "<div>\n",
       "<style scoped>\n",
       "    .dataframe tbody tr th:only-of-type {\n",
       "        vertical-align: middle;\n",
       "    }\n",
       "\n",
       "    .dataframe tbody tr th {\n",
       "        vertical-align: top;\n",
       "    }\n",
       "\n",
       "    .dataframe thead th {\n",
       "        text-align: right;\n",
       "    }\n",
       "</style>\n",
       "<table border=\"1\" class=\"dataframe\">\n",
       "  <thead>\n",
       "    <tr style=\"text-align: right;\">\n",
       "      <th></th>\n",
       "      <th>Author Id</th>\n",
       "      <th>Topic Words</th>\n",
       "    </tr>\n",
       "  </thead>\n",
       "  <tbody>\n",
       "    <tr>\n",
       "      <th>0</th>\n",
       "      <td>1</td>\n",
       "      <td>{'string': 0.09652447228585227, 'brane': 0.089...</td>\n",
       "    </tr>\n",
       "    <tr>\n",
       "      <th>1</th>\n",
       "      <td>3</td>\n",
       "      <td>{'fields': 0.07744539996852072, 'chiral': 0.04...</td>\n",
       "    </tr>\n",
       "    <tr>\n",
       "      <th>2</th>\n",
       "      <td>10</td>\n",
       "      <td>{'quantum': 0.033096638147438726, 'potential':...</td>\n",
       "    </tr>\n",
       "    <tr>\n",
       "      <th>3</th>\n",
       "      <td>14</td>\n",
       "      <td>{'theory': 0.13321210713137357, 'loop': 0.1209...</td>\n",
       "    </tr>\n",
       "    <tr>\n",
       "      <th>4</th>\n",
       "      <td>22</td>\n",
       "      <td>{'bravais': 0.09412688548146708, 'classes': 0....</td>\n",
       "    </tr>\n",
       "  </tbody>\n",
       "</table>\n",
       "</div>"
      ],
      "text/plain": [
       "  Author Id                                        Topic Words\n",
       "0         1  {'string': 0.09652447228585227, 'brane': 0.089...\n",
       "1         3  {'fields': 0.07744539996852072, 'chiral': 0.04...\n",
       "2        10  {'quantum': 0.033096638147438726, 'potential':...\n",
       "3        14  {'theory': 0.13321210713137357, 'loop': 0.1209...\n",
       "4        22  {'bravais': 0.09412688548146708, 'classes': 0...."
      ]
     },
     "execution_count": 20,
     "metadata": {},
     "output_type": "execute_result"
    }
   ],
   "source": [
    "single_author_word.head()"
   ]
  },
  {
   "cell_type": "code",
   "execution_count": 6,
   "metadata": {},
   "outputs": [],
   "source": [
    "single_author_word = single_author_word.set_index(\"Author Id\").to_dict()[\"Topic Words\"]\n",
    "paper_topic_word = paper_topic_word.set_index(\"Paper Id\").to_dict()[\"Topic Words\"]\n",
    "pap_auth_df = pap_auth_df.set_index(\"Paper Id\").to_dict()[\"Author Id\"]"
   ]
  },
  {
   "cell_type": "code",
   "execution_count": 7,
   "metadata": {},
   "outputs": [
    {
     "data": {
      "text/plain": [
       "4187"
      ]
     },
     "execution_count": 7,
     "metadata": {},
     "output_type": "execute_result"
    }
   ],
   "source": [
    "len(single_author_word) # Number of authors who have published papers on their own"
   ]
  },
  {
   "cell_type": "code",
   "execution_count": 8,
   "metadata": {},
   "outputs": [],
   "source": [
    "authors_words = copy.deepcopy(single_author_word)\n",
    "paper_unknown_list = {}\n",
    "paper_papWords = {}\n",
    "count = 0\n",
    "\n",
    "for it in range(0, 75):\n",
    "    for paper_id, author_id_list in pap_auth_df.items():\n",
    "        rowAuth = ast.literal_eval(author_id_list)\n",
    "        if paper_id not in paper_topic_word.keys():\n",
    "            continue\n",
    "        count += 1\n",
    "        if len(rowAuth) > 1:\n",
    "            unknown_list = []\n",
    "            paper_words = ast.literal_eval(paper_topic_word[paper_id])\n",
    "            #logger.info(type(paper_words))\n",
    "            #break\n",
    "            for authId in rowAuth:\n",
    "                if authId in authors_words.keys():\n",
    "                    paper_words = {k:v for k,v in paper_words.items() if k not in authors_words[authId]}\n",
    "                else:\n",
    "                    unknown_list.append(authId)\n",
    "            if len(unknown_list) == 1:\n",
    "                authors_words[unknown_list[0]] = paper_words\n",
    "            paper_papWords[paper_id] = paper_words\n",
    "            paper_unknown_list[paper_id] = unknown_list\n",
    "    #break\n",
    "for paper_id, uk_list in paper_unknown_list.items():\n",
    "    paper_words = paper_papWords[paper_id]\n",
    "    #break\n",
    "    for authId in uk_list:\n",
    "        if authId not in authors_words.keys():\n",
    "            authors_words[authId] = paper_words"
   ]
  },
  {
   "cell_type": "code",
   "execution_count": 9,
   "metadata": {},
   "outputs": [
    {
     "data": {
      "text/plain": [
       "8649"
      ]
     },
     "execution_count": 9,
     "metadata": {},
     "output_type": "execute_result"
    }
   ],
   "source": [
    "len(set(authors_words) - set(single_author_word)) # Difference between new dict and single author dict"
   ]
  },
  {
   "cell_type": "code",
   "execution_count": 10,
   "metadata": {},
   "outputs": [
    {
     "data": {
      "text/plain": [
       "12836"
      ]
     },
     "execution_count": 10,
     "metadata": {},
     "output_type": "execute_result"
    }
   ],
   "source": [
    "len(authors_words) # Number of authors who have topic words"
   ]
  },
  {
   "cell_type": "code",
   "execution_count": 11,
   "metadata": {},
   "outputs": [],
   "source": [
    "d = authors_words\n",
    "d = {key:val for key, val in d.items() if val != {}}"
   ]
  },
  {
   "cell_type": "code",
   "execution_count": 13,
   "metadata": {},
   "outputs": [
    {
     "data": {
      "text/html": [
       "<div>\n",
       "<style scoped>\n",
       "    .dataframe tbody tr th:only-of-type {\n",
       "        vertical-align: middle;\n",
       "    }\n",
       "\n",
       "    .dataframe tbody tr th {\n",
       "        vertical-align: top;\n",
       "    }\n",
       "\n",
       "    .dataframe thead th {\n",
       "        text-align: right;\n",
       "    }\n",
       "</style>\n",
       "<table border=\"1\" class=\"dataframe\">\n",
       "  <thead>\n",
       "    <tr style=\"text-align: right;\">\n",
       "      <th></th>\n",
       "      <th>Author Id</th>\n",
       "      <th>Topic Words</th>\n",
       "    </tr>\n",
       "  </thead>\n",
       "  <tbody>\n",
       "    <tr>\n",
       "      <th>count</th>\n",
       "      <td>12836</td>\n",
       "      <td>12836</td>\n",
       "    </tr>\n",
       "    <tr>\n",
       "      <th>unique</th>\n",
       "      <td>12836</td>\n",
       "      <td>11386</td>\n",
       "    </tr>\n",
       "    <tr>\n",
       "      <th>top</th>\n",
       "      <td>4632</td>\n",
       "      <td>{'phase': 0.03929639914990857, 'transition': 0...</td>\n",
       "    </tr>\n",
       "    <tr>\n",
       "      <th>freq</th>\n",
       "      <td>1</td>\n",
       "      <td>15</td>\n",
       "    </tr>\n",
       "  </tbody>\n",
       "</table>\n",
       "</div>"
      ],
      "text/plain": [
       "       Author Id                                        Topic Words\n",
       "count      12836                                              12836\n",
       "unique     12836                                              11386\n",
       "top         4632  {'phase': 0.03929639914990857, 'transition': 0...\n",
       "freq           1                                                 15"
      ]
     },
     "execution_count": 13,
     "metadata": {},
     "output_type": "execute_result"
    }
   ],
   "source": [
    "#Creating and downloading dataframe with author id and topic words for both multi and single authors\n",
    "author_words_df = pd.DataFrame(d.items(),columns = ['Author Id','Topic Words'])\n",
    "author_words_df.describe()"
   ]
  },
  {
   "cell_type": "code",
   "execution_count": 21,
   "metadata": {},
   "outputs": [
    {
     "data": {
      "text/html": [
       "<div>\n",
       "<style scoped>\n",
       "    .dataframe tbody tr th:only-of-type {\n",
       "        vertical-align: middle;\n",
       "    }\n",
       "\n",
       "    .dataframe tbody tr th {\n",
       "        vertical-align: top;\n",
       "    }\n",
       "\n",
       "    .dataframe thead th {\n",
       "        text-align: right;\n",
       "    }\n",
       "</style>\n",
       "<table border=\"1\" class=\"dataframe\">\n",
       "  <thead>\n",
       "    <tr style=\"text-align: right;\">\n",
       "      <th></th>\n",
       "      <th>Author Id</th>\n",
       "      <th>Topic Words</th>\n",
       "    </tr>\n",
       "  </thead>\n",
       "  <tbody>\n",
       "    <tr>\n",
       "      <th>0</th>\n",
       "      <td>1</td>\n",
       "      <td>{'string': 0.09652447228585227, 'brane': 0.089...</td>\n",
       "    </tr>\n",
       "    <tr>\n",
       "      <th>1</th>\n",
       "      <td>3</td>\n",
       "      <td>{'fields': 0.07744539996852072, 'chiral': 0.04...</td>\n",
       "    </tr>\n",
       "    <tr>\n",
       "      <th>2</th>\n",
       "      <td>10</td>\n",
       "      <td>{'quantum': 0.033096638147438726, 'potential':...</td>\n",
       "    </tr>\n",
       "    <tr>\n",
       "      <th>3</th>\n",
       "      <td>14</td>\n",
       "      <td>{'theory': 0.13321210713137357, 'loop': 0.1209...</td>\n",
       "    </tr>\n",
       "    <tr>\n",
       "      <th>4</th>\n",
       "      <td>22</td>\n",
       "      <td>{'bravais': 0.09412688548146708, 'classes': 0....</td>\n",
       "    </tr>\n",
       "  </tbody>\n",
       "</table>\n",
       "</div>"
      ],
      "text/plain": [
       "  Author Id                                        Topic Words\n",
       "0         1  {'string': 0.09652447228585227, 'brane': 0.089...\n",
       "1         3  {'fields': 0.07744539996852072, 'chiral': 0.04...\n",
       "2        10  {'quantum': 0.033096638147438726, 'potential':...\n",
       "3        14  {'theory': 0.13321210713137357, 'loop': 0.1209...\n",
       "4        22  {'bravais': 0.09412688548146708, 'classes': 0...."
      ]
     },
     "execution_count": 21,
     "metadata": {},
     "output_type": "execute_result"
    }
   ],
   "source": [
    "author_words_df.head()"
   ]
  },
  {
   "cell_type": "code",
   "execution_count": 15,
   "metadata": {},
   "outputs": [],
   "source": [
    "author_words_df.to_csv('author_topic_words.csv', index=False) # Author Id, Top 30 words for that author"
   ]
  },
  {
   "cell_type": "markdown",
   "metadata": {},
   "source": [
    "50 times -> 10203th row\n",
    "75 times -> 10203th row"
   ]
  }
 ],
 "metadata": {
  "interpreter": {
   "hash": "279c6539ace695c1d5d5413ccf455cf2c33011ac4446642bcc83faa2f1ff8d0a"
  },
  "kernelspec": {
   "display_name": "Python 3.8.5 64-bit ('pytorch': conda)",
   "language": "python",
   "name": "python3"
  },
  "language_info": {
   "codemirror_mode": {
    "name": "ipython",
    "version": 3
   },
   "file_extension": ".py",
   "mimetype": "text/x-python",
   "name": "python",
   "nbconvert_exporter": "python",
   "pygments_lexer": "ipython3",
   "version": "3.8.5"
  },
  "orig_nbformat": 4
 },
 "nbformat": 4,
 "nbformat_minor": 2
}
