{
 "cells": [
  {
   "cell_type": "code",
   "execution_count": 20,
   "metadata": {},
   "outputs": [],
   "source": [
    "import os\n",
    "import ast\n",
    "import pandas as pd\n",
    "import numpy as np"
   ]
  },
  {
   "cell_type": "code",
   "execution_count": 21,
   "metadata": {},
   "outputs": [],
   "source": [
    "papid_authid_dataset = pd.read_csv(\"data/authors_hepth_1991_2003.csv\", dtype='str')\n",
    "papid_authid_dataset.drop(\"Unnamed: 0\", axis=1, inplace=True)"
   ]
  },
  {
   "cell_type": "code",
   "execution_count": 22,
   "metadata": {},
   "outputs": [
    {
     "data": {
      "text/html": [
       "<div>\n",
       "<style scoped>\n",
       "    .dataframe tbody tr th:only-of-type {\n",
       "        vertical-align: middle;\n",
       "    }\n",
       "\n",
       "    .dataframe tbody tr th {\n",
       "        vertical-align: top;\n",
       "    }\n",
       "\n",
       "    .dataframe thead th {\n",
       "        text-align: right;\n",
       "    }\n",
       "</style>\n",
       "<table border=\"1\" class=\"dataframe\">\n",
       "  <thead>\n",
       "    <tr style=\"text-align: right;\">\n",
       "      <th></th>\n",
       "      <th>Author Id</th>\n",
       "      <th>Paper Id</th>\n",
       "      <th>Authors</th>\n",
       "      <th>Year</th>\n",
       "    </tr>\n",
       "  </thead>\n",
       "  <tbody>\n",
       "    <tr>\n",
       "      <th>0</th>\n",
       "      <td>1</td>\n",
       "      <td>9112005</td>\n",
       "      <td>Christof Schmidhuber</td>\n",
       "      <td>1991</td>\n",
       "    </tr>\n",
       "    <tr>\n",
       "      <th>1</th>\n",
       "      <td>2</td>\n",
       "      <td>9112014</td>\n",
       "      <td>H. Lu</td>\n",
       "      <td>1991</td>\n",
       "    </tr>\n",
       "    <tr>\n",
       "      <th>2</th>\n",
       "      <td>3</td>\n",
       "      <td>9109003</td>\n",
       "      <td>Jadwiga Bienkowska</td>\n",
       "      <td>1991</td>\n",
       "    </tr>\n",
       "    <tr>\n",
       "      <th>3</th>\n",
       "      <td>4</td>\n",
       "      <td>9108020</td>\n",
       "      <td>A. Strominger</td>\n",
       "      <td>1991</td>\n",
       "    </tr>\n",
       "    <tr>\n",
       "      <th>4</th>\n",
       "      <td>5</td>\n",
       "      <td>9108020</td>\n",
       "      <td>J. A. Harvey</td>\n",
       "      <td>1991</td>\n",
       "    </tr>\n",
       "  </tbody>\n",
       "</table>\n",
       "</div>"
      ],
      "text/plain": [
       "  Author Id Paper Id               Authors  Year\n",
       "0         1  9112005  Christof Schmidhuber  1991\n",
       "1         2  9112014                 H. Lu  1991\n",
       "2         3  9109003    Jadwiga Bienkowska  1991\n",
       "3         4  9108020         A. Strominger  1991\n",
       "4         5  9108020          J. A. Harvey  1991"
      ]
     },
     "execution_count": 22,
     "metadata": {},
     "output_type": "execute_result"
    }
   ],
   "source": [
    "papid_authid_dataset.head()"
   ]
  },
  {
   "cell_type": "code",
   "execution_count": 23,
   "metadata": {},
   "outputs": [],
   "source": [
    "pap_auth = {}\n",
    "for key, row in papid_authid_dataset.iterrows():\n",
    "    authId = row[\"Author Id\"]\n",
    "    papId = row[\"Paper Id\"]\n",
    "    if papId in pap_auth.keys():\n",
    "        pap_auth[papId].append(authId)\n",
    "    else:\n",
    "        pap_auth[papId] = list(authId)"
   ]
  },
  {
   "cell_type": "code",
   "execution_count": 24,
   "metadata": {},
   "outputs": [
    {
     "data": {
      "text/html": [
       "<div>\n",
       "<style scoped>\n",
       "    .dataframe tbody tr th:only-of-type {\n",
       "        vertical-align: middle;\n",
       "    }\n",
       "\n",
       "    .dataframe tbody tr th {\n",
       "        vertical-align: top;\n",
       "    }\n",
       "\n",
       "    .dataframe thead th {\n",
       "        text-align: right;\n",
       "    }\n",
       "</style>\n",
       "<table border=\"1\" class=\"dataframe\">\n",
       "  <thead>\n",
       "    <tr style=\"text-align: right;\">\n",
       "      <th></th>\n",
       "      <th>Paper Id</th>\n",
       "      <th>Author Id</th>\n",
       "    </tr>\n",
       "  </thead>\n",
       "  <tbody>\n",
       "    <tr>\n",
       "      <th>0</th>\n",
       "      <td>9112005</td>\n",
       "      <td>[1]</td>\n",
       "    </tr>\n",
       "    <tr>\n",
       "      <th>1</th>\n",
       "      <td>9112014</td>\n",
       "      <td>[2, 34, 30, 33]</td>\n",
       "    </tr>\n",
       "    <tr>\n",
       "      <th>2</th>\n",
       "      <td>9109003</td>\n",
       "      <td>[3]</td>\n",
       "    </tr>\n",
       "    <tr>\n",
       "      <th>3</th>\n",
       "      <td>9108020</td>\n",
       "      <td>[4, 5]</td>\n",
       "    </tr>\n",
       "    <tr>\n",
       "      <th>4</th>\n",
       "      <td>9112074</td>\n",
       "      <td>[6, 7, 11, 12]</td>\n",
       "    </tr>\n",
       "  </tbody>\n",
       "</table>\n",
       "</div>"
      ],
      "text/plain": [
       "  Paper Id        Author Id\n",
       "0  9112005              [1]\n",
       "1  9112014  [2, 34, 30, 33]\n",
       "2  9109003              [3]\n",
       "3  9108020           [4, 5]\n",
       "4  9112074   [6, 7, 11, 12]"
      ]
     },
     "execution_count": 24,
     "metadata": {},
     "output_type": "execute_result"
    }
   ],
   "source": [
    "pap_auth_df = pd.DataFrame(pap_auth.items(), columns=[\"Paper Id\", \"Author Id\"])\n",
    "pap_auth_df.head()"
   ]
  },
  {
   "cell_type": "code",
   "execution_count": 25,
   "metadata": {},
   "outputs": [
    {
     "data": {
      "text/html": [
       "<div>\n",
       "<style scoped>\n",
       "    .dataframe tbody tr th:only-of-type {\n",
       "        vertical-align: middle;\n",
       "    }\n",
       "\n",
       "    .dataframe tbody tr th {\n",
       "        vertical-align: top;\n",
       "    }\n",
       "\n",
       "    .dataframe thead th {\n",
       "        text-align: right;\n",
       "    }\n",
       "</style>\n",
       "<table border=\"1\" class=\"dataframe\">\n",
       "  <thead>\n",
       "    <tr style=\"text-align: right;\">\n",
       "      <th></th>\n",
       "      <th>Paper Id</th>\n",
       "      <th>Author Id</th>\n",
       "    </tr>\n",
       "  </thead>\n",
       "  <tbody>\n",
       "    <tr>\n",
       "      <th>count</th>\n",
       "      <td>29624</td>\n",
       "      <td>29624</td>\n",
       "    </tr>\n",
       "    <tr>\n",
       "      <th>unique</th>\n",
       "      <td>29624</td>\n",
       "      <td>19578</td>\n",
       "    </tr>\n",
       "    <tr>\n",
       "      <th>top</th>\n",
       "      <td>0007043</td>\n",
       "      <td>[2, 1]</td>\n",
       "    </tr>\n",
       "    <tr>\n",
       "      <th>freq</th>\n",
       "      <td>1</td>\n",
       "      <td>56</td>\n",
       "    </tr>\n",
       "  </tbody>\n",
       "</table>\n",
       "</div>"
      ],
      "text/plain": [
       "       Paper Id Author Id\n",
       "count     29624     29624\n",
       "unique    29624     19578\n",
       "top     0007043    [2, 1]\n",
       "freq          1        56"
      ]
     },
     "execution_count": 25,
     "metadata": {},
     "output_type": "execute_result"
    }
   ],
   "source": [
    "pap_auth_df.describe()"
   ]
  },
  {
   "cell_type": "code",
   "execution_count": 26,
   "metadata": {},
   "outputs": [],
   "source": [
    "pap_auth_df[\"Paper Id\"] = pap_auth_df[\"Paper Id\"].astype(\"str\")\n",
    "pap_auth_df.to_csv(\"papId_authId.csv\", index=False)"
   ]
  },
  {
   "cell_type": "code",
   "execution_count": 34,
   "metadata": {},
   "outputs": [],
   "source": [
    "pap_auth_df = pd.read_csv(\"papId_authId.csv\", dtype='str')"
   ]
  },
  {
   "cell_type": "code",
   "execution_count": 28,
   "metadata": {},
   "outputs": [],
   "source": [
    "single_author_word = pd.read_csv(\"single_author_topic_words.csv\", dtype='str')\n",
    "paper_topic_word = pd.read_csv(\"single_authored_papers_topic_model.csv\", dtype='str')"
   ]
  },
  {
   "cell_type": "code",
   "execution_count": 29,
   "metadata": {},
   "outputs": [],
   "source": [
    "single_author_word = single_author_word.set_index(\"Author Id\").to_dict()[\"Topic Words\"]\n",
    "paper_topic_word = paper_topic_word.set_index(\"Paper Id\").to_dict()[\"Topic Words\"]"
   ]
  },
  {
   "cell_type": "code",
   "execution_count": 30,
   "metadata": {},
   "outputs": [
    {
     "data": {
      "text/plain": [
       "4187"
      ]
     },
     "execution_count": 30,
     "metadata": {},
     "output_type": "execute_result"
    }
   ],
   "source": [
    "authors = single_author_word\n",
    "len(authors)"
   ]
  },
  {
   "cell_type": "code",
   "execution_count": 38,
   "metadata": {},
   "outputs": [],
   "source": [
    "authors = single_author_word\n",
    "papId_papWord = {}\n",
    "\n",
    "for count in range(0, 4):\n",
    "    \n",
    "    for key, row in pap_auth_df.iterrows():\n",
    "    \n",
    "        rowAuth = ast.literal_eval(row[\"Author Id\"])\n",
    "        papId = row[\"Paper Id\"]\n",
    "        #print(type(papId))\n",
    "        if papId not in paper_topic_word.keys():\n",
    "            break\n",
    "        papWords = paper_topic_word[papId]\n",
    "    \n",
    "        for i in rowAuth:\n",
    "            \n",
    "            if i in authors.keys():\n",
    "                \n",
    "                set1 = set(papWords)\n",
    "                set2 = set(authors[i])\n",
    "                papWords = set1 ^ set2\n",
    "            \n",
    "            else:\n",
    "                check = 0\n",
    "                aid  = 0\n",
    "                for j in rowAuth:\n",
    "                    if j not in authors.keys():\n",
    "                        if check == 0:\n",
    "                            aid = j\n",
    "                            check += 1\n",
    "                        else:\n",
    "                            break\n",
    "                authors[aid] = papWords\n",
    "                \n",
    "        papId_papWord[papId] = papWords  \n",
    "                     \n",
    "for key, row in pap_auth_df.iterrows():\n",
    "    \n",
    "    rowAuth = ast.literal_eval(row[\"Author Id\"])\n",
    "    papId = row[\"Paper Id\"]\n",
    "    \n",
    "    if papId not in paper_topic_word.keys():\n",
    "        break\n",
    "    \n",
    "    for i in rowAuth:\n",
    "        if i not in authors.keys():\n",
    "            authors[i] = papId_papWord[papId]   "
   ]
  },
  {
   "cell_type": "code",
   "execution_count": 39,
   "metadata": {},
   "outputs": [
    {
     "data": {
      "text/plain": [
       "4187"
      ]
     },
     "execution_count": 39,
     "metadata": {},
     "output_type": "execute_result"
    }
   ],
   "source": [
    "len(authors)"
   ]
  },
  {
   "cell_type": "code",
   "execution_count": 31,
   "metadata": {},
   "outputs": [
    {
     "data": {
      "text/plain": [
       "str"
      ]
     },
     "execution_count": 31,
     "metadata": {},
     "output_type": "execute_result"
    }
   ],
   "source": [
    "type(list(paper_topic_word.keys())[0])"
   ]
  }
 ],
 "metadata": {
  "interpreter": {
   "hash": "279c6539ace695c1d5d5413ccf455cf2c33011ac4446642bcc83faa2f1ff8d0a"
  },
  "kernelspec": {
   "display_name": "Python 3.8.5 64-bit ('pytorch': conda)",
   "language": "python",
   "name": "python3"
  },
  "language_info": {
   "codemirror_mode": {
    "name": "ipython",
    "version": 3
   },
   "file_extension": ".py",
   "mimetype": "text/x-python",
   "name": "python",
   "nbconvert_exporter": "python",
   "pygments_lexer": "ipython3",
   "version": "3.8.5"
  },
  "orig_nbformat": 4
 },
 "nbformat": 4,
 "nbformat_minor": 2
}
