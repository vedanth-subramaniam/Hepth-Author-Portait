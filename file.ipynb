{
 "cells": [
  {
   "cell_type": "code",
   "execution_count": 2,
   "metadata": {},
   "outputs": [],
   "source": [
    "import json\n",
    "import os\n",
    "import pandas as pd"
   ]
  },
  {
   "cell_type": "code",
   "execution_count": 42,
   "metadata": {},
   "outputs": [],
   "source": [
    "\n",
    "def extract():\n",
    "    par_dir = \"hepth\"\n",
    "    dataset = pd.DataFrame(columns=[\"Paper Id\", \"Authors\", \"Year\"])\n",
    "    for folderYear in os.listdir(par_dir):\n",
    "        year = folderYear\n",
    "        for fileName in os.listdir(par_dir + \"/\" + folderYear):\n",
    "            row_dict = {}\n",
    "            #par_dir + \"/\" + folderYear + \"/\" + fileName\n",
    "            with open(\"hepth/2002/0212334.abs\") as fh:\n",
    "                file_dict = {}\n",
    "                count = 0\n",
    "                for line in fh:\n",
    "                    #print(len(line))\n",
    "                    #print(line)\n",
    "                    if count == 2:\n",
    "                        break\n",
    "                    elif len(line) == 3 and (line.find(\"\\\\\") != -1):\n",
    "                        count += 1\n",
    "                    elif count == 1:\n",
    "                        print(\"h\")\n",
    "                        #print(line)\n",
    "                        key= line.split(\":\", 1)\n",
    "                        #print(value)\n",
    "                        print(key)\n",
    "                        #file_dict[key[0]] = key[1]\n",
    "            print(file_dict)\n",
    "            break\n",
    "            row_dict = {\"Paper Id\":fileName[:-4], \"Authors\":file_dict[\"Authors\"], \"Year\":year}\n",
    "            dataset = dataset.append(row_dict, ignore_index = True)\n",
    "            print(dataset.head())\n",
    "            break\n",
    "        break"
   ]
  },
  {
   "cell_type": "code",
   "execution_count": 60,
   "metadata": {},
   "outputs": [],
   "source": [
    "\n",
    "def extract():\n",
    "    par_dir = \"hepth\"\n",
    "    dataset = pd.DataFrame(columns=[\"Paper Id\", \"Authors\", \"Year\"])\n",
    "    for folderYear in os.listdir(par_dir):\n",
    "        year = folderYear\n",
    "        for fileName in os.listdir(par_dir + \"/\" + folderYear):\n",
    "            row_dict = {}\n",
    "            #par_dir + \"/\" + folderYear + \"/\" + fileName\n",
    "            value = \"\"\n",
    "            key = []\n",
    "            with open(\"hepth/2002/0212334.abs\") as fh:\n",
    "                file_dict = {}\n",
    "                temp = fh\n",
    "                content = temp.readlines()\n",
    "                #print(content)\n",
    "                i = 0\n",
    "                for line in fh:\n",
    "                    print(line)\n",
    "                    if line.find(\"Authors:\") != -1:\n",
    "                        key = line.split(\":\")\n",
    "                        print(\"h\")\n",
    "                        value = key[1][:-2]\n",
    "                        for x in range(i, len(content)):\n",
    "                            if content[x].find(\":\") == -1:\n",
    "                                value += content[x][:-2]\n",
    "                            else:\n",
    "                                break\n",
    "                    i += 1 \n",
    "            #file_dict[key[0]] = value\n",
    "            #print(file_dict)            break\n",
    "            row_dict = {\"Paper Id\":fileName[:-4], \"Authors\":file_dict[\"Authors\"], \"Year\":year}\n",
    "            dataset = dataset.append(row_dict, ignore_index = True)\n",
    "            print(dataset.head())\n",
    "            break\n",
    "        break"
   ]
  },
  {
   "cell_type": "code",
   "execution_count": 122,
   "metadata": {},
   "outputs": [],
   "source": [
    "def extract():\n",
    "    par_dir = \"hepth\"\n",
    "    dataset = pd.DataFrame(columns=[\"Paper Id\", \"Authors\", \"Year\"])\n",
    "    fileNameList = []\n",
    "    for folderYear in os.listdir(par_dir):\n",
    "        year = folderYear\n",
    "        for fileName in os.listdir(par_dir + \"/\" + folderYear):\n",
    "            row_dict = {}\n",
    "            key = \"\"\n",
    "            value = \"\"\n",
    "            with open(par_dir + \"/\" + folderYear + \"/\" + fileName) as fh:\n",
    "                file_dict = {}\n",
    "                content = fh.readlines()\n",
    "                i = 0\n",
    "                key = \"\"\n",
    "                value = \"\"\n",
    "                for line in content:\n",
    "                    if line.find(\"Authors:\") != -1 or line.find(\"Author:\") != -1:\n",
    "                        value = line.split(\":\")\n",
    "                        value = value[1][:-1]\n",
    "                        for x in range(i+1, len(content)):\n",
    "                            if content[x].find(\"\\\\\") != -1:\n",
    "                                break\n",
    "                            if content[x].find(\":\") == -1:\n",
    "                                value += content[x][:-1]\n",
    "                            else:\n",
    "                                break\n",
    "                    i += 1\n",
    "                #file_dict[key] = value\n",
    "            fileNameList.append(fileName[:-4])\n",
    "            row_dict = {\"Paper Id\":str(fileName[:-4]), \"Authors\":value, \"Year\":year}\n",
    "            dataset = dataset.append(row_dict, ignore_index = True)\n",
    "    return dataset\n",
    "        "
   ]
  },
  {
   "cell_type": "code",
   "execution_count": 123,
   "metadata": {},
   "outputs": [],
   "source": [
    "dataset = extract()"
   ]
  },
  {
   "cell_type": "code",
   "execution_count": 126,
   "metadata": {},
   "outputs": [],
   "source": [
    "df = dataset.copy()"
   ]
  },
  {
   "cell_type": "code",
   "execution_count": 127,
   "metadata": {},
   "outputs": [],
   "source": [
    "dataset.dropna(inplace=True)"
   ]
  },
  {
   "cell_type": "code",
   "execution_count": 124,
   "metadata": {},
   "outputs": [
    {
     "data": {
      "text/html": [
       "<div>\n",
       "<style scoped>\n",
       "    .dataframe tbody tr th:only-of-type {\n",
       "        vertical-align: middle;\n",
       "    }\n",
       "\n",
       "    .dataframe tbody tr th {\n",
       "        vertical-align: top;\n",
       "    }\n",
       "\n",
       "    .dataframe thead th {\n",
       "        text-align: right;\n",
       "    }\n",
       "</style>\n",
       "<table border=\"1\" class=\"dataframe\">\n",
       "  <thead>\n",
       "    <tr style=\"text-align: right;\">\n",
       "      <th></th>\n",
       "      <th>Paper Id</th>\n",
       "      <th>Authors</th>\n",
       "      <th>Year</th>\n",
       "    </tr>\n",
       "  </thead>\n",
       "  <tbody>\n",
       "    <tr>\n",
       "      <th>count</th>\n",
       "      <td>29555</td>\n",
       "      <td>29555</td>\n",
       "      <td>29555</td>\n",
       "    </tr>\n",
       "    <tr>\n",
       "      <th>unique</th>\n",
       "      <td>29555</td>\n",
       "      <td>19689</td>\n",
       "      <td>12</td>\n",
       "    </tr>\n",
       "    <tr>\n",
       "      <th>top</th>\n",
       "      <td>9209131</td>\n",
       "      <td>Ashoke Sen</td>\n",
       "      <td>2002</td>\n",
       "    </tr>\n",
       "    <tr>\n",
       "      <th>freq</th>\n",
       "      <td>1</td>\n",
       "      <td>55</td>\n",
       "      <td>3312</td>\n",
       "    </tr>\n",
       "  </tbody>\n",
       "</table>\n",
       "</div>"
      ],
      "text/plain": [
       "       Paper Id      Authors   Year\n",
       "count     29555        29555  29555\n",
       "unique    29555        19689     12\n",
       "top     9209131   Ashoke Sen   2002\n",
       "freq          1           55   3312"
      ]
     },
     "execution_count": 124,
     "metadata": {},
     "output_type": "execute_result"
    }
   ],
   "source": [
    "dataset.describe()"
   ]
  },
  {
   "cell_type": "code",
   "execution_count": 128,
   "metadata": {},
   "outputs": [
    {
     "data": {
      "text/html": [
       "<div>\n",
       "<style scoped>\n",
       "    .dataframe tbody tr th:only-of-type {\n",
       "        vertical-align: middle;\n",
       "    }\n",
       "\n",
       "    .dataframe tbody tr th {\n",
       "        vertical-align: top;\n",
       "    }\n",
       "\n",
       "    .dataframe thead th {\n",
       "        text-align: right;\n",
       "    }\n",
       "</style>\n",
       "<table border=\"1\" class=\"dataframe\">\n",
       "  <thead>\n",
       "    <tr style=\"text-align: right;\">\n",
       "      <th></th>\n",
       "      <th>Paper Id</th>\n",
       "      <th>Authors</th>\n",
       "      <th>Year</th>\n",
       "    </tr>\n",
       "  </thead>\n",
       "  <tbody>\n",
       "    <tr>\n",
       "      <th>count</th>\n",
       "      <td>29555</td>\n",
       "      <td>29555</td>\n",
       "      <td>29555</td>\n",
       "    </tr>\n",
       "    <tr>\n",
       "      <th>unique</th>\n",
       "      <td>29555</td>\n",
       "      <td>19689</td>\n",
       "      <td>12</td>\n",
       "    </tr>\n",
       "    <tr>\n",
       "      <th>top</th>\n",
       "      <td>9209131</td>\n",
       "      <td>Ashoke Sen</td>\n",
       "      <td>2002</td>\n",
       "    </tr>\n",
       "    <tr>\n",
       "      <th>freq</th>\n",
       "      <td>1</td>\n",
       "      <td>55</td>\n",
       "      <td>3312</td>\n",
       "    </tr>\n",
       "  </tbody>\n",
       "</table>\n",
       "</div>"
      ],
      "text/plain": [
       "       Paper Id      Authors   Year\n",
       "count     29555        29555  29555\n",
       "unique    29555        19689     12\n",
       "top     9209131   Ashoke Sen   2002\n",
       "freq          1           55   3312"
      ]
     },
     "execution_count": 128,
     "metadata": {},
     "output_type": "execute_result"
    }
   ],
   "source": [
    "dataset.describe()"
   ]
  },
  {
   "cell_type": "code",
   "execution_count": 129,
   "metadata": {},
   "outputs": [],
   "source": [
    "dataset.to_csv(\"HEPTH_METADATA_3.csv\", index=False)"
   ]
  },
  {
   "cell_type": "code",
   "execution_count": 135,
   "metadata": {},
   "outputs": [],
   "source": [
    "dff = df.copy()"
   ]
  },
  {
   "cell_type": "code",
   "execution_count": 140,
   "metadata": {},
   "outputs": [],
   "source": [
    "dff[\"Paper Id\"] = df[\"Paper Id\"].astype('str')\n",
    "dff.to_csv(\"HEPTH_METADATA_FINAL_11PM.csv\", index=False)"
   ]
  },
  {
   "cell_type": "code",
   "execution_count": 116,
   "metadata": {},
   "outputs": [],
   "source": [
    "par_dir = \"hepth\"\n",
    "count = 0\n",
    "pap = []\n",
    "\n",
    "for folderYear in os.listdir(par_dir):\n",
    "       year = folderYear\n",
    "       for fileName in os.listdir(par_dir + \"/\" + folderYear):\n",
    "              if len(fileName) != 11:\n",
    "                     count += 1\n",
    "                     pap.append(fileName)"
   ]
  },
  {
   "cell_type": "code",
   "execution_count": 141,
   "metadata": {},
   "outputs": [],
   "source": [
    "dataset = pd.read_csv(\"HEPTH_METADATA_FINAL_11PM.csv\", dtype='str')"
   ]
  },
  {
   "cell_type": "code",
   "execution_count": 142,
   "metadata": {},
   "outputs": [
    {
     "data": {
      "text/html": [
       "<div>\n",
       "<style scoped>\n",
       "    .dataframe tbody tr th:only-of-type {\n",
       "        vertical-align: middle;\n",
       "    }\n",
       "\n",
       "    .dataframe tbody tr th {\n",
       "        vertical-align: top;\n",
       "    }\n",
       "\n",
       "    .dataframe thead th {\n",
       "        text-align: right;\n",
       "    }\n",
       "</style>\n",
       "<table border=\"1\" class=\"dataframe\">\n",
       "  <thead>\n",
       "    <tr style=\"text-align: right;\">\n",
       "      <th></th>\n",
       "      <th>Paper Id</th>\n",
       "      <th>Authors</th>\n",
       "      <th>Year</th>\n",
       "    </tr>\n",
       "  </thead>\n",
       "  <tbody>\n",
       "    <tr>\n",
       "      <th>0</th>\n",
       "      <td>9201001</td>\n",
       "      <td>C. Itzykson and J.-B. Zuber</td>\n",
       "      <td>1992</td>\n",
       "    </tr>\n",
       "    <tr>\n",
       "      <th>1</th>\n",
       "      <td>9201002</td>\n",
       "      <td>F.Bonechi, E.Celeghini, R.Giachetti, E.Sorace...</td>\n",
       "      <td>1992</td>\n",
       "    </tr>\n",
       "    <tr>\n",
       "      <th>2</th>\n",
       "      <td>9201003</td>\n",
       "      <td>Robbert Dijkgraaf</td>\n",
       "      <td>1992</td>\n",
       "    </tr>\n",
       "    <tr>\n",
       "      <th>3</th>\n",
       "      <td>9201004</td>\n",
       "      <td>Nathan Berkovits</td>\n",
       "      <td>1992</td>\n",
       "    </tr>\n",
       "    <tr>\n",
       "      <th>4</th>\n",
       "      <td>9201005</td>\n",
       "      <td>Igor R. Klebanov</td>\n",
       "      <td>1992</td>\n",
       "    </tr>\n",
       "  </tbody>\n",
       "</table>\n",
       "</div>"
      ],
      "text/plain": [
       "  Paper Id                                            Authors  Year\n",
       "0  9201001                        C. Itzykson and J.-B. Zuber  1992\n",
       "1  9201002   F.Bonechi, E.Celeghini, R.Giachetti, E.Sorace...  1992\n",
       "2  9201003                                  Robbert Dijkgraaf  1992\n",
       "3  9201004                                   Nathan Berkovits  1992\n",
       "4  9201005                                   Igor R. Klebanov  1992"
      ]
     },
     "execution_count": 142,
     "metadata": {},
     "output_type": "execute_result"
    }
   ],
   "source": [
    "dataset.head()"
   ]
  },
  {
   "cell_type": "code",
   "execution_count": 143,
   "metadata": {},
   "outputs": [
    {
     "data": {
      "text/plain": [
       "0"
      ]
     },
     "execution_count": 143,
     "metadata": {},
     "output_type": "execute_result"
    }
   ],
   "source": [
    "pap_list = df[\"Paper Id\"]\n",
    "count = 0\n",
    "ans = []\n",
    "for x in pap_list:\n",
    "    if len(str(x)) != 7:\n",
    "        count += 1\n",
    "        ans.append(x)\n",
    "count"
   ]
  }
 ],
 "metadata": {
  "interpreter": {
   "hash": "279c6539ace695c1d5d5413ccf455cf2c33011ac4446642bcc83faa2f1ff8d0a"
  },
  "kernelspec": {
   "display_name": "Python 3.8.5 64-bit ('pytorch': conda)",
   "language": "python",
   "name": "python3"
  },
  "language_info": {
   "codemirror_mode": {
    "name": "ipython",
    "version": 3
   },
   "file_extension": ".py",
   "mimetype": "text/x-python",
   "name": "python",
   "nbconvert_exporter": "python",
   "pygments_lexer": "ipython3",
   "version": "3.8.5"
  },
  "orig_nbformat": 4
 },
 "nbformat": 4,
 "nbformat_minor": 2
}
